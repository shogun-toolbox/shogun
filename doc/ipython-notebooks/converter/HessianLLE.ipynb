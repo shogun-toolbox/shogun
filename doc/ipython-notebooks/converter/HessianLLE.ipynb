{
 "cells": [
  {
   "cell_type": "code",
   "execution_count": null,
   "metadata": {
    "collapsed": false
   },
   "outputs": [],
   "source": [
    "import numpy as np\n",
    "\n",
    "#The scikit-example for this notebook\n",
    "#is here - http://scikit-learn.org/stable/auto_examples/manifold/plot_lle_digits.html\n",
    "\n",
    "from scipy.io import loadmat, savemat\n",
    "from numpy    import random\n",
    "from os       import path\n",
    "import matplotlib.pyplot as plt\n",
    "from mpl_toolkits.mplot3d import Axes3D\n",
    "\n",
    "\n",
    "mat  = loadmat('usps.mat')\n",
    "Xall = mat['data']\n",
    "Xall_ = np.resize(Xall, (256, 1024))\n",
    "#The number of training examples have been reduced to make it feasible to run.\n",
    "\n",
    "#print Xall_\n",
    "#print Xall_.shape\n",
    "Yall = np.array(mat['label'].squeeze(), dtype=np.double)\n",
    "Yall_ = np.resize(Yall, (1024, ))\n",
    "def plot(data, embedded_data, colors='m'):\n",
    "\tfig = plt.figure()\n",
    "\tfig.set_facecolor('white')\n",
    "\tax = fig.add_subplot(121,projection='3d')\n",
    "\tax.scatter(data[0],data[1],data[2],c=colors,cmap=plt.cm.Spectral)\n",
    "\tplt.axis('tight'); plt.axis('off')\n",
    "\tax = fig.add_subplot(122)\n",
    "\tax.scatter(embedded_data[0],embedded_data[1],c=colors,cmap=plt.cm.Spectral)\n",
    "\tplt.axis('tight'); plt.axis('off')\n",
    "\tplt.show()\n",
    "\n",
    "from modshogun import StochasticProximityEmbedding, RealFeatures, HessianLocallyLinearEmbedding\n",
    "\n",
    "data, colors = Xall_, Yall_\n",
    "features = RealFeatures(data)\n",
    "\n",
    "converter = HessianLocallyLinearEmbedding()\n",
    "converter.set_target_dim(2)\n",
    "\n",
    "embedded_features = converter.embed(features)\n",
    "embedded_data = embedded_features.get_feature_matrix()\n",
    "\n",
    "#print converter.get_reconstruction_shift()\n",
    "\n",
    "plot(data, embedded_data, colors)"
   ]
  },
  {
   "cell_type": "raw",
   "metadata": {},
   "source": []
  }
 ],
 "metadata": {
  "kernelspec": {
   "display_name": "Python 2",
   "language": "python",
   "name": "python2"
  },
  "language_info": {
   "codemirror_mode": {
    "name": "ipython",
    "version": 2
   },
   "file_extension": ".py",
   "mimetype": "text/x-python",
   "name": "python",
   "nbconvert_exporter": "python",
   "pygments_lexer": "ipython2",
   "version": "2.7.6"
  }
 },
 "nbformat": 4,
 "nbformat_minor": 1
}
