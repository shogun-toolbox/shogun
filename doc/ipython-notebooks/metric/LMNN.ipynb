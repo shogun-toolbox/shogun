{
 "metadata": {
  "name": ""
 },
 "nbformat": 3,
 "nbformat_minor": 0,
 "worksheets": [
  {
   "cells": [
    {
     "cell_type": "heading",
     "level": 1,
     "metadata": {},
     "source": [
      "Metric Learning with the Shogun Machine Learning Toolbox"
     ]
    },
    {
     "cell_type": "heading",
     "level": 5,
     "metadata": {},
     "source": [
      "By Fernando J. Iglesias Garcia. Style inspired by \"Blind Source Separation with the Shogun Machine Learning Toolbox\", by Kevin Hughes."
     ]
    },
    {
     "cell_type": "markdown",
     "metadata": {},
     "source": [
      "In this notebook we are going to see how metric learning can be used for classification using the Shogun Machine Learning Toolbox. In particular, will we be dealing with an algorithm for metric learning called *Large Margin Nearest Neighbour*, or just LMNN, for short."
     ]
    },
    {
     "cell_type": "markdown",
     "metadata": {},
     "source": [
      "First of all, let us introduce through a simple example the main idea of LMNN. For this purpose, we will be using the following two-dimensional toy data set:"
     ]
    },
    {
     "cell_type": "code",
     "collapsed": false,
     "input": [
      "import numpy\n",
      "\n",
      "x = numpy.array([[0,0],[-1,0.1],[0.3,-0.05],[0.7,0.3],[-0.2,-0.6],[-0.15,-0.63],[-0.25,0.55],[-0.28,0.67]])\n",
      "y = numpy.array([0,0,0,0,1,1,2,2])"
     ],
     "language": "python",
     "metadata": {},
     "outputs": [],
     "prompt_number": 1
    },
    {
     "cell_type": "markdown",
     "metadata": {},
     "source": [
      "This is, there are eight feature vectors where each of them belongs to one out of three different classes (identified by either 0, 1, or 2). Let us take a look to this data:"
     ]
    },
    {
     "cell_type": "code",
     "collapsed": false,
     "input": [
      "import matplotlib.pyplot as pyplot\n",
      "\n",
      "%matplotlib inline\n",
      "\n",
      "def plot_data(features,labels,axis):\n",
      "    # separate features according to their class\n",
      "    X0,X1,X2 = features[labels==0], features[labels==1], features[labels==2]\n",
      "    \n",
      "    # class 0 data\n",
      "    axis.plot(X0[:,0], X0[:,1], 'o', color='green', markersize=12)\n",
      "    # class 1 data\n",
      "    axis.plot(X1[:,0], X1[:,1], 'o', color='red', markersize=12)\n",
      "    # class 2 data\n",
      "    axis.plot(X2[:,0], X2[:,1], 'o', color='blue', markersize=12)\n",
      "    \n",
      "    # set axes limits\n",
      "    axis.set_xlim(-1.5,1.5)\n",
      "    axis.set_ylim(-1.5,1.5)\n",
      "    axis.set_aspect('equal')\n",
      "    \n",
      "    axis.set_xlabel('x')\n",
      "    axis.set_ylabel('y')\n",
      "\n",
      "figure,axis = pyplot.subplots(1,1)\n",
      "plot_data(x,y,axis)\n",
      "axis.set_title('Toy data set')\n",
      "pyplot.show()"
     ],
     "language": "python",
     "metadata": {},
     "outputs": [
      {
       "metadata": {},
       "output_type": "display_data",
       "png": "[encoded data removed]",
       "text": [
        "<matplotlib.figure.Figure at 0x2a966d0>"
       ]
      }
     ],
     "prompt_number": 2
    },
    {
     "cell_type": "markdown",
     "metadata": {},
     "source": [
      "In the figure above, we can see that two of the classes are represented by two points that are, for each of these classes, very close to each other. The third class, however, has four points that are close to each other with respect to the y-axis, but spread along the x-axis.  "
     ]
    },
    {
     "cell_type": "markdown",
     "metadata": {},
     "source": [
      "If we were to apply kNN (*k-nearest neighbors*) in a data set like this, we would expect quite some errors using the standard Euclidean distance. This is due to the fact that the spread of the data is not similar amongst the feature dimensions. The following piece of code plots an ellipse on top of the data set. The ellipse in this case is in fact a circunference that helps to visualize how the Euclidean distance weights equally both feature dimensions.   "
     ]
    },
    {
     "cell_type": "code",
     "collapsed": false,
     "input": [
      "def make_covariance_ellipse(covariance):\n",
      "    import matplotlib.patches as patches\n",
      "    import scipy.linalg       as linalg\n",
      "    \n",
      "    # the ellipse is centered at (0,0)\n",
      "    mean = numpy.array([0,0])\n",
      "    \n",
      "    # eigenvalue decomposition of the covariance matrix (w are eigenvalues and v eigenvectors),\n",
      "    # keeping only the real part\n",
      "    w,v = linalg.eigh(covariance)\n",
      "    # normalize the eigenvector corresponding to the largest eigenvalue\n",
      "    u = v[0]/linalg.norm(v[0])\n",
      "    # angle in degrees\n",
      "    angle = 180.0/numpy.pi*numpy.arctan(u[1]/u[0])\n",
      "    # fill Gaussian ellipse at 2 standard deviation\n",
      "    ellipse = patches.Ellipse(mean, 2*w[0]**0.5, 2*w[1]**0.5, 180+angle, color='orange', alpha=0.3)\n",
      "    \n",
      "    return ellipse\n",
      "\n",
      "# represent the Euclidean distance\n",
      "figure,axis = pyplot.subplots(1,1)\n",
      "plot_data(x,y,axis)\n",
      "ellipse = make_covariance_ellipse(numpy.eye(2))\n",
      "axis.add_artist(ellipse)\n",
      "axis.set_title('Euclidean distance')\n",
      "pyplot.show()\n"
     ],
     "language": "python",
     "metadata": {},
     "outputs": [
      {
       "metadata": {},
       "output_type": "display_data",
       "png": "[encoded data removed]",
       "text": [
        "<matplotlib.figure.Figure at 0x358d050>"
       ]
      }
     ],
     "prompt_number": 3
    },
    {
     "cell_type": "markdown",
     "metadata": {},
     "source": [
      "A possible workaround to improve the performance of kNN in a data set like this would be to input to the kNN routine a distance measure. For instance, in the example above a good distance measure would give more weight to the y-direction than to the x-direction to account for the large spread along the x-axis. Nonetheless, it would be nicer (and, in fact, much more useful in practice) if this distance could be learnt automatically from the data at hand. Actually, LMNN is based upon this principle: given a number of neighbours *k*, find the Mahalanobis distance measure which maximizes kNN accuracy (using the given value for *k*) in a training data set. As we usually do in machine learning, under the assumption that the training data is an accurate enough representation of the underlying process, the distance learnt will not only perform well in the training data, but also have good generalization properties.  "
     ]
    },
    {
     "cell_type": "markdown",
     "metadata": {},
     "source": [
      "Now, let us use the LMNN method implemented in Shogun to find the distance and plot its associated ellipse. If everything goes well, we will see that the new ellipse only overlaps with the data points of the green class."
     ]
    },
    {
     "cell_type": "markdown",
     "metadata": {},
     "source": [
      "First, we need to wrap the data into Shogun's feature and label objects:"
     ]
    },
    {
     "cell_type": "code",
     "collapsed": false,
     "input": [
      "from shogun.Features import RealFeatures, MulticlassLabels\n",
      "\n",
      "features = RealFeatures(x.T)\n",
      "labels   = MulticlassLabels(y.astype(numpy.float64))"
     ],
     "language": "python",
     "metadata": {},
     "outputs": [],
     "prompt_number": 4
    },
    {
     "cell_type": "markdown",
     "metadata": {},
     "source": [
      "Secondly, perform LMNN training:"
     ]
    },
    {
     "cell_type": "code",
     "collapsed": false,
     "input": [
      "from shogun.Metric import LMNN\n",
      "\n",
      "# number of target neighbours per example\n",
      "k = 1\n",
      "\n",
      "lmnn = LMNN(features,labels,k)\n",
      "lmnn.train()"
     ],
     "language": "python",
     "metadata": {},
     "outputs": [],
     "prompt_number": 5
    },
    {
     "cell_type": "markdown",
     "metadata": {},
     "source": [
      "Finally, we retrieve the distance measure learnt by LMNN during training and visualize it together with the data:"
     ]
    },
    {
     "cell_type": "code",
     "collapsed": false,
     "input": [
      "# get the linear transform from LMNN\n",
      "L = lmnn.get_linear_transform()\n",
      "# square the linear transform to obtain the Mahalanobis distance matrix\n",
      "M = numpy.matrix(numpy.dot(L.T,L))\n",
      "\n",
      "# represent the distance given by LMNN\n",
      "figure,axis = pyplot.subplots(1,1)\n",
      "plot_data(x,y,axis)\n",
      "ellipse = make_covariance_ellipse(M.I)\n",
      "axis.add_artist(ellipse)\n",
      "axis.set_title('LMNN distance')\n",
      "pyplot.show()"
     ],
     "language": "python",
     "metadata": {},
     "outputs": [
      {
       "metadata": {},
       "output_type": "display_data",
       "png": "[encoded data removed]",
       "text": [
        "<matplotlib.figure.Figure at 0x3c150d0>"
       ]
      }
     ],
     "prompt_number": 6
    }
   ],
   "metadata": {}
  }
 ]
}