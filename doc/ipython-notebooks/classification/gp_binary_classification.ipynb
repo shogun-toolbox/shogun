{
 "metadata": {
  "name": "gp_binary_classification"
 },
 "nbformat": 3,
 "nbformat_minor": 0,
 "worksheets": [
  {
   "cells": [
    {
     "cell_type": "heading",
     "level": 1,
     "metadata": {},
     "source": [
      "Gaussian Process Probit Regression (binary classification) with Shogun\n"
     ]
    },
    {
     "cell_type": "markdown",
     "metadata": {},
     "source": [
      "Import all necessary modules from Sghoun"
     ]
    },
    {
     "cell_type": "code",
     "collapsed": false,
     "input": [
      "from modshogun import RealFeatures, BinaryLabels, GaussianKernel, Math\n",
      "from modshogun import ProbitLikelihood, ZeroMean, LaplacianInferenceMethod, GaussianProcessBinaryClassification"
     ],
     "language": "python",
     "metadata": {},
     "outputs": []
    },
    {
     "cell_type": "markdown",
     "metadata": {},
     "source": [
      "Generate some easy toy data, three isotropic 2D Gaussians, with labels +1, -1. Plot it.\n",
      "Test data is a mesh on the 2d plane"
     ]
    },
    {
     "cell_type": "code",
     "collapsed": false,
     "input": [
      "n=30\n",
      "mean_a1=asarray([0,0])\n",
      "mean_a2=asarray([2,2])\n",
      "mean_b=asarray([1,1])\n",
      "std_dev=0.5\n",
      "\n",
      "X1=(randn(n,2)*std_dev+mean_a1).T\n",
      "X2=(randn(n,2)*std_dev+mean_a2).T\n",
      "X3=(randn(n,2)*std_dev+mean_b).T\n",
      "X=hstack((X1,X2,X3))\n",
      "Y=-ones(shape(X)[1])\n",
      "Y[:2*n]+=2\n",
      "\n",
      "# generate all pairs in 2d range of training data\n",
      "import itertools  \n",
      "n_test=60\n",
      "P=linspace(X[0,:].min()-1, X[0,:].max()+1, n_test)\n",
      "Q=linspace(X[0,:].min()-1, X[0,:].max()+1, n_test)\n",
      "X_test=asarray(list(itertools.product(P, Q))).T\n",
      "\n",
      "# plot training data\n",
      "plot(X[0,:2*n],X[1,:2*n], 'ro')\n",
      "_=plot(X[0,2*n:],X[1,2*n:], 'bo')\n"
     ],
     "language": "python",
     "metadata": {},
     "outputs": []
    },
    {
     "cell_type": "markdown",
     "metadata": {},
     "source": [
      "Convert data into Shogun representation, print dimensions to be sure data was passed in correct "
     ]
    },
    {
     "cell_type": "code",
     "collapsed": false,
     "input": [
      "labels=BinaryLabels(Y)\n",
      "feats_train=RealFeatures(X)\n",
      "feats_test=RealFeatures(X_test)"
     ],
     "language": "python",
     "metadata": {},
     "outputs": []
    },
    {
     "cell_type": "markdown",
     "metadata": {},
     "source": [
      "Specify a Shogun GP (probit GP-classification with Laplace-approx.) with fixed hyper-parameters and pass it the data"
     ]
    },
    {
     "cell_type": "code",
     "collapsed": false,
     "input": [
      "kernel_sigma=2.5\n",
      "kernel=GaussianKernel(10,kernel_sigma)\n",
      "mean=ZeroMean()\n",
      "lik=ProbitLikelihood()\n",
      "inf=LaplacianInferenceMethod(kernel, feats_train, mean, labels, lik)\n",
      "gp = GaussianProcessBinaryClassification(inf)"
     ],
     "language": "python",
     "metadata": {},
     "outputs": []
    },
    {
     "cell_type": "markdown",
     "metadata": {},
     "source": [
      "Train GP, perform inference and plot predictive distribution with decision boundary"
     ]
    },
    {
     "cell_type": "code",
     "collapsed": false,
     "input": [
      "gp.train()\n",
      "predictions=gp.apply_binary(feats_test)\n",
      "Y_test=predictions.get_values()\n",
      "Y_test=reshape(Y_test, (n_test,n_test))\n",
      "\n",
      "plot(X[0,:2*n],X[1,:2*n], 'ro')\n",
      "plot(X[0,2*n:],X[1,2*n:], 'bo')\n",
      "contour(P,Q,Y_test, levels=[0])\n",
      "_=pcolor(P,Q,Y_test)"
     ],
     "language": "python",
     "metadata": {},
     "outputs": []
    },
    {
     "cell_type": "code",
     "collapsed": false,
     "input": [],
     "language": "python",
     "metadata": {},
     "outputs": []
    }
   ],
   "metadata": {}
  }
 ]
}