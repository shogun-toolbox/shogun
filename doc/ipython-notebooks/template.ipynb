{
 "metadata": {
  "name": ""
 },
 "nbformat": 3,
 "nbformat_minor": 0,
 "worksheets": [
  {
   "cells": [
    {
     "cell_type": "heading",
     "level": 1,
     "metadata": {},
     "source": [
      "Notebook Title"
     ]
    },
    {
     "cell_type": "heading",
     "level": 4,
     "metadata": {},
     "source": [
      "*Author (GitHub ID: githubid) *"
     ]
    },
    {
     "cell_type": "markdown",
     "metadata": {},
     "source": [
      "Notebook abstract. Short explanation of the topic and the purpose of the notebook in about 500 characters. Please, keep in mind this limit since this abstract will be rendered in the webpage."
     ]
    },
    {
     "cell_type": "heading",
     "level": 2,
     "metadata": {},
     "source": [
      "First section"
     ]
    },
    {
     "cell_type": "markdown",
     "metadata": {},
     "source": [
      "In the first section it might be a good idea to summarize the fundamentals of the machine learning algorithm(s) to use in the notebook. You can, for instance, use a toy data set for this purpose."
     ]
    },
    {
     "cell_type": "code",
     "collapsed": false,
     "input": [
      "# Use the notebook's code cells to include Shogun code that, e.g. trains a classifier, loads or generates data, etc.\n",
      "\n",
      "# Do not hesitate to draw inspiration from the other notebooks inside the directories in doc/ipython-notebooks/."
     ],
     "language": "python",
     "metadata": {},
     "outputs": []
    },
    {
     "cell_type": "heading",
     "level": 2,
     "metadata": {},
     "source": [
      "Second section"
     ]
    },
    {
     "cell_type": "markdown",
     "metadata": {},
     "source": [
      "The second section is the place to get into more sophisticated parts, for instance details of the method you are presenting and even illustrating its performance in real data sets."
     ]
    },
    {
     "cell_type": "markdown",
     "metadata": {},
     "source": [
      "It is nice idea to include links to Shogun's Doxygen documentation. For example, this a link to the [SGObject class](http://www.shogun-toolbox.org/doc/en/latest/classshogun_1_1CSGObject.html) and this other one to the [`get_name`](http://www.shogun-toolbox.org/doc/en/latest/classshogun_1_1CSGObject.html#a471caa9005cc581cb4514c0705b698ee) of this class."
     ]
    },
    {
     "cell_type": "heading",
     "level": 2,
     "metadata": {},
     "source": [
      "References"
     ]
    },
    {
     "cell_type": "markdown",
     "metadata": {},
     "source": [
      "Do not forget to write a reference list! Books, scientific articles or resources in the web. In case of articles, include a link to the paper if this is publicly available."
     ]
    },
    {
     "cell_type": "markdown",
     "metadata": {},
     "source": [
      "- Author 1, author 2. Reference 1.\n",
      "- More authors. Reference 2.\n",
      "- [iPython notebook documentation](http://ipython.org/ipython-doc/dev/interactive/notebook.html).\n",
      "- ..."
     ]
    }
   ],
   "metadata": {}
  }
 ]
}